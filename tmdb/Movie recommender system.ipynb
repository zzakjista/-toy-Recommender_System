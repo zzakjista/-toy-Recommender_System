{
 "cells": [
  {
   "cell_type": "code",
   "execution_count": 1,
   "id": "8a39c915",
   "metadata": {},
   "outputs": [],
   "source": [
    "import pandas as pd\n",
    "import numpy as np\n",
    "import json\n",
    "import matplotlib.pyplot as plt\n",
    "import re\n",
    "%matplotlib inline"
   ]
  },
  {
   "cell_type": "code",
   "execution_count": 2,
   "id": "21c01ebe",
   "metadata": {},
   "outputs": [],
   "source": [
    "credits = pd.read_csv('tmdb_5000_credits.csv') #영화 상세, 제작진\n",
    "movies = pd.read_csv('tmdb_5000_movies.csv')"
   ]
  },
  {
   "cell_type": "code",
   "execution_count": 3,
   "id": "d272e117",
   "metadata": {},
   "outputs": [],
   "source": [
    "data = pd.merge(credits,movies,how='left',left_on='movie_id',right_on='id').drop(columns=['id'])"
   ]
  },
  {
   "cell_type": "markdown",
   "id": "751cf0b2",
   "metadata": {},
   "source": [
    "### 영화별 nested data list\n",
    "1.cast\n",
    "2.crew\n",
    "3.genres\n",
    "4.keywords\n",
    "5.production_companies\n",
    "6.production_countries\n",
    "7.spoken_languages\n",
    "### 날짜형 데이터\n",
    "1.release_date"
   ]
  },
  {
   "cell_type": "code",
   "execution_count": 4,
   "id": "3b8910cd",
   "metadata": {},
   "outputs": [],
   "source": [
    "def unnest_data(lst, data):\n",
    "    results = []\n",
    "    for col in lst:\n",
    "        temp_df = pd.DataFrame()\n",
    "        for i in range(data.shape[0]):\n",
    "            a = pd.DataFrame(json.loads(data[col][i]))\n",
    "            a['movie_id'] = data['movie_id'][i]\n",
    "            temp_df = pd.concat([temp_df, a])\n",
    "        results.append(temp_df)\n",
    "    return results"
   ]
  },
  {
   "cell_type": "code",
   "execution_count": 5,
   "id": "20bef5dc",
   "metadata": {},
   "outputs": [],
   "source": [
    "unnest_lst = ['cast', 'crew', 'genres', 'keywords', 'production_companies', 'production_countries']\n",
    "unnest_dataset = unnest_data(unnest_lst,data)"
   ]
  },
  {
   "cell_type": "code",
   "execution_count": 6,
   "id": "dfe9e622",
   "metadata": {},
   "outputs": [],
   "source": [
    "data['release_date'] = pd.to_datetime(data['release_date'])"
   ]
  },
  {
   "cell_type": "markdown",
   "id": "ef4dc071",
   "metadata": {},
   "source": [
    "## DemographicFiltering"
   ]
  },
  {
   "attachments": {
    "image.png": {
     "image/png": "[encoded data removed]"
    }
   },
   "cell_type": "markdown",
   "id": "ae0030a8",
   "metadata": {},
   "source": [
    "![image.png](attachment:image.png)\n",
    "- imdb weight rating\n",
    "- vote_count(v)가 많으면 많을 수록 1에 가까워질것이고 적어지면 0에 가까워질것이다\n",
    "- 인기영화는 가중치를 그대로 노출하고, 인기없는 영화는 가중치를 줄인다\n",
    "- 인기영화가 받는 전체 평점 평균의 영향은 줄이고, 인기있는 영화의 전체 평균에 대한 영향은 늘린다"
   ]
  },
  {
   "cell_type": "code",
   "execution_count": 7,
   "id": "6cbf70ab",
   "metadata": {},
   "outputs": [
    {
     "data": {
      "text/plain": [
       "(481, 23)"
      ]
     },
     "execution_count": 7,
     "metadata": {},
     "output_type": "execute_result"
    }
   ],
   "source": [
    "C = data['vote_average'].mean()\n",
    "m = data['vote_count'].quantile(0.9)\n",
    "q_movies = data.copy().loc[data['vote_count']>=m] #상위 10%의 vote를 받은 영화들\n",
    "q_movies.shape"
   ]
  },
  {
   "cell_type": "code",
   "execution_count": 8,
   "id": "1c683024",
   "metadata": {},
   "outputs": [],
   "source": [
    "def weight_rating(x,m=m,C=C):\n",
    "    v = x['vote_count']\n",
    "    R = x['vote_average']\n",
    "    return (v/(v+m)*R) + (m/(m+v)*C)"
   ]
  },
  {
   "cell_type": "code",
   "execution_count": 9,
   "id": "b48ed7e7",
   "metadata": {},
   "outputs": [],
   "source": [
    "q_movies['score'] = weight_rating(q_movies)"
   ]
  },
  {
   "cell_type": "code",
   "execution_count": 10,
   "id": "19c0183c",
   "metadata": {
    "scrolled": true
   },
   "outputs": [
    {
     "data": {
      "text/html": [
       "<div>\n",
       "<style scoped>\n",
       "    .dataframe tbody tr th:only-of-type {\n",
       "        vertical-align: middle;\n",
       "    }\n",
       "\n",
       "    .dataframe tbody tr th {\n",
       "        vertical-align: top;\n",
       "    }\n",
       "\n",
       "    .dataframe thead th {\n",
       "        text-align: right;\n",
       "    }\n",
       "</style>\n",
       "<table border=\"1\" class=\"dataframe\">\n",
       "  <thead>\n",
       "    <tr style=\"text-align: right;\">\n",
       "      <th></th>\n",
       "      <th>title_x</th>\n",
       "      <th>vote_count</th>\n",
       "      <th>vote_average</th>\n",
       "      <th>score</th>\n",
       "    </tr>\n",
       "  </thead>\n",
       "  <tbody>\n",
       "    <tr>\n",
       "      <th>1881</th>\n",
       "      <td>The Shawshank Redemption</td>\n",
       "      <td>8205</td>\n",
       "      <td>8.5</td>\n",
       "      <td>8.059258</td>\n",
       "    </tr>\n",
       "    <tr>\n",
       "      <th>662</th>\n",
       "      <td>Fight Club</td>\n",
       "      <td>9413</td>\n",
       "      <td>8.3</td>\n",
       "      <td>7.939256</td>\n",
       "    </tr>\n",
       "    <tr>\n",
       "      <th>65</th>\n",
       "      <td>The Dark Knight</td>\n",
       "      <td>12002</td>\n",
       "      <td>8.2</td>\n",
       "      <td>7.920020</td>\n",
       "    </tr>\n",
       "    <tr>\n",
       "      <th>3232</th>\n",
       "      <td>Pulp Fiction</td>\n",
       "      <td>8428</td>\n",
       "      <td>8.3</td>\n",
       "      <td>7.904645</td>\n",
       "    </tr>\n",
       "    <tr>\n",
       "      <th>96</th>\n",
       "      <td>Inception</td>\n",
       "      <td>13752</td>\n",
       "      <td>8.1</td>\n",
       "      <td>7.863239</td>\n",
       "    </tr>\n",
       "    <tr>\n",
       "      <th>3337</th>\n",
       "      <td>The Godfather</td>\n",
       "      <td>5893</td>\n",
       "      <td>8.4</td>\n",
       "      <td>7.851236</td>\n",
       "    </tr>\n",
       "    <tr>\n",
       "      <th>95</th>\n",
       "      <td>Interstellar</td>\n",
       "      <td>10867</td>\n",
       "      <td>8.1</td>\n",
       "      <td>7.809479</td>\n",
       "    </tr>\n",
       "    <tr>\n",
       "      <th>809</th>\n",
       "      <td>Forrest Gump</td>\n",
       "      <td>7927</td>\n",
       "      <td>8.2</td>\n",
       "      <td>7.803188</td>\n",
       "    </tr>\n",
       "    <tr>\n",
       "      <th>329</th>\n",
       "      <td>The Lord of the Rings: The Return of the King</td>\n",
       "      <td>8064</td>\n",
       "      <td>8.1</td>\n",
       "      <td>7.727243</td>\n",
       "    </tr>\n",
       "    <tr>\n",
       "      <th>1990</th>\n",
       "      <td>The Empire Strikes Back</td>\n",
       "      <td>5879</td>\n",
       "      <td>8.2</td>\n",
       "      <td>7.697884</td>\n",
       "    </tr>\n",
       "  </tbody>\n",
       "</table>\n",
       "</div>"
      ],
      "text/plain": [
       "                                            title_x  vote_count  vote_average  \\\n",
       "1881                       The Shawshank Redemption        8205           8.5   \n",
       "662                                      Fight Club        9413           8.3   \n",
       "65                                  The Dark Knight       12002           8.2   \n",
       "3232                                   Pulp Fiction        8428           8.3   \n",
       "96                                        Inception       13752           8.1   \n",
       "3337                                  The Godfather        5893           8.4   \n",
       "95                                     Interstellar       10867           8.1   \n",
       "809                                    Forrest Gump        7927           8.2   \n",
       "329   The Lord of the Rings: The Return of the King        8064           8.1   \n",
       "1990                        The Empire Strikes Back        5879           8.2   \n",
       "\n",
       "         score  \n",
       "1881  8.059258  \n",
       "662   7.939256  \n",
       "65    7.920020  \n",
       "3232  7.904645  \n",
       "96    7.863239  \n",
       "3337  7.851236  \n",
       "95    7.809479  \n",
       "809   7.803188  \n",
       "329   7.727243  \n",
       "1990  7.697884  "
      ]
     },
     "execution_count": 10,
     "metadata": {},
     "output_type": "execute_result"
    }
   ],
   "source": [
    "q_movies = q_movies.sort_values(by='score',ascending=False)\n",
    "q_movies[['title_x','vote_count','vote_average','score']].head(10)"
   ]
  },
  {
   "cell_type": "code",
   "execution_count": 11,
   "id": "4330df8c",
   "metadata": {
    "scrolled": true
   },
   "outputs": [
    {
     "data": {
      "image/png": "[encoded data removed]",
      "text/plain": [
       "<Figure size 1080x720 with 1 Axes>"
      ]
     },
     "metadata": {
      "needs_background": "light"
     },
     "output_type": "display_data"
    }
   ],
   "source": [
    "popular = data.sort_values('popularity',ascending=False)\n",
    "plt.figure(figsize=(15,10))\n",
    "plt.barh(popular['title_x'].head(6),popular['popularity'].head(6))\n",
    "plt.gca().invert_yaxis()\n",
    "plt.title('popular_Movies');"
   ]
  },
  {
   "cell_type": "markdown",
   "id": "dc67520b",
   "metadata": {},
   "source": [
    "## Content Based Filtering\n",
    "- item별 유사도를 구하기 위해 cast, crew, keyword, tagline을 사용하고\n",
    "- cos()으로 유사도를 구하여 추천한다"
   ]
  },
  {
   "cell_type": "markdown",
   "id": "a1d30488",
   "metadata": {},
   "source": [
    "- overview Vectorize"
   ]
  },
  {
   "cell_type": "code",
   "execution_count": 12,
   "id": "07eb46e4",
   "metadata": {},
   "outputs": [
    {
     "data": {
      "text/plain": [
       "<4803x20978 sparse matrix of type '<class 'numpy.float64'>'\n",
       "\twith 125840 stored elements in Compressed Sparse Row format>"
      ]
     },
     "execution_count": 12,
     "metadata": {},
     "output_type": "execute_result"
    }
   ],
   "source": [
    "from sklearn.feature_extraction.text import TfidfVectorizer\n",
    "\n",
    "tfidf = TfidfVectorizer(stop_words='english') #조사 생략\n",
    "\n",
    "data['overview'] = data['overview'].fillna('')\n",
    "\n",
    "tfidf_matrix = tfidf.fit_transform(data['overview']) #out to sparse set\n",
    "\n",
    "tfidf_matrix"
   ]
  },
  {
   "attachments": {
    "image.png": {
     "image/png": "[encoded data removed]"
    }
   },
   "cell_type": "markdown",
   "id": "72663c3a",
   "metadata": {},
   "source": [
    "![image.png](attachment:image.png)\n",
    "- pearson, cos 등 유사도를 측정할 수 있는 method 지정\n",
    "- cos = 0 이면 두 변수가 직교하기 때문에 독립(유사X)\n",
    "- cos = 1 이면 종속이기 때문에 완전 똑같음"
   ]
  },
  {
   "cell_type": "code",
   "execution_count": 13,
   "id": "1da66e38",
   "metadata": {},
   "outputs": [],
   "source": [
    "from sklearn.metrics.pairwise import linear_kernel, cosine_similarity\n",
    "cosine_sim = linear_kernel(tfidf_matrix,tfidf_matrix)"
   ]
  },
  {
   "cell_type": "code",
   "execution_count": 14,
   "id": "c64fe9de",
   "metadata": {},
   "outputs": [],
   "source": [
    "indices = pd.Series(data.index,index=data['title_x']).drop_duplicates()"
   ]
  },
  {
   "cell_type": "code",
   "execution_count": 15,
   "id": "51e02350",
   "metadata": {},
   "outputs": [],
   "source": [
    "#유사도 상위 10개 출력\n",
    "def get_recommendation(title,cosine_sim=cosine_sim):\n",
    "    idx = indices[title]\n",
    "    temp = pd.DataFrame(cosine_sim)[idx].reset_index().rename(columns={0:'sim'})\n",
    "    temp.columns = ['index','sim']\n",
    "    movie_indices = list(temp.sort_values(by='sim',ascending=False).iloc[1:10]['index'])\n",
    "    return data['title_x'].iloc[movie_indices]"
   ]
  },
  {
   "cell_type": "code",
   "execution_count": 16,
   "id": "66cbb255",
   "metadata": {},
   "outputs": [
    {
     "data": {
      "text/plain": [
       "65                              The Dark Knight\n",
       "299                              Batman Forever\n",
       "428                              Batman Returns\n",
       "1359                                     Batman\n",
       "3854    Batman: The Dark Knight Returns, Part 2\n",
       "119                               Batman Begins\n",
       "2507                                  Slow Burn\n",
       "9            Batman v Superman: Dawn of Justice\n",
       "1181                                        JFK\n",
       "Name: title_x, dtype: object"
      ]
     },
     "execution_count": 16,
     "metadata": {},
     "output_type": "execute_result"
    }
   ],
   "source": [
    "get_recommendation('The Dark Knight Rises')"
   ]
  },
  {
   "cell_type": "code",
   "execution_count": 17,
   "id": "38baa93b",
   "metadata": {},
   "outputs": [],
   "source": [
    "from ast import literal_eval\n",
    "#str to python object\n",
    "features = ['cast','crew','keywords','genres']\n",
    "for feature in features:\n",
    "    data[feature] = data[feature].apply(literal_eval)"
   ]
  },
  {
   "cell_type": "code",
   "execution_count": 18,
   "id": "30fe34ba",
   "metadata": {},
   "outputs": [],
   "source": [
    "def get_director(x): #행마다 crew \n",
    "    for i in x:\n",
    "        if i['job'] == 'Director':\n",
    "            return i['name']\n",
    "    return np.nan"
   ]
  },
  {
   "cell_type": "code",
   "execution_count": 19,
   "id": "17e1d726",
   "metadata": {},
   "outputs": [],
   "source": [
    "def get_list(x):\n",
    "    if isinstance(x,list):\n",
    "        names = [i['name'] for i in x]\n",
    "        names = list(set(names))\n",
    "        if len(names) > 3:\n",
    "            names = names[:3]\n",
    "        return names\n",
    "    return []"
   ]
  },
  {
   "cell_type": "code",
   "execution_count": 20,
   "id": "e8daf16b",
   "metadata": {},
   "outputs": [],
   "source": [
    "data['director'] = data['crew'].apply(get_director)\n",
    "\n",
    "features = ['cast','keywords','genres']\n",
    "for feature in features:\n",
    "    data[feature] = data[feature].apply(get_list)\n",
    "    "
   ]
  },
  {
   "cell_type": "code",
   "execution_count": 21,
   "id": "906de398",
   "metadata": {},
   "outputs": [],
   "source": [
    "data['homepage'] = data['homepage'].fillna('none')"
   ]
  },
  {
   "cell_type": "code",
   "execution_count": 22,
   "id": "823f1b36",
   "metadata": {},
   "outputs": [],
   "source": [
    "#homepage에서 middle address 추출\n",
    "p = re.compile('[^http://www.|^s://www.].*(?=.com)')\n",
    "lst=[]\n",
    "for i in range(data.shape[0]):\n",
    "    lst.append(p.findall(data['homepage'][i]))\n",
    "data['site'] = pd.DataFrame(lst)[0]\n",
    "data['site']= data['site'].fillna(' ')"
   ]
  },
  {
   "cell_type": "code",
   "execution_count": 24,
   "id": "81852c61",
   "metadata": {},
   "outputs": [],
   "source": [
    "#convert to lower case and trim\n",
    "#vectorize할 때의 오류를 줄일 수 있다\n",
    "def clean_data(x):\n",
    "    if isinstance(x,list):\n",
    "        return [str.lower(i.replace(' ','')) for i in x]\n",
    "    else:\n",
    "        \n",
    "        if isinstance(x,str):\n",
    "            return str.lower(x.replace(' ',''))\n",
    "        \n",
    "        else:\n",
    "            return ''"
   ]
  },
  {
   "cell_type": "code",
   "execution_count": 43,
   "id": "39f342dd",
   "metadata": {},
   "outputs": [
    {
     "data": {
      "text/html": [
       "<div>\n",
       "<style scoped>\n",
       "    .dataframe tbody tr th:only-of-type {\n",
       "        vertical-align: middle;\n",
       "    }\n",
       "\n",
       "    .dataframe tbody tr th {\n",
       "        vertical-align: top;\n",
       "    }\n",
       "\n",
       "    .dataframe thead th {\n",
       "        text-align: right;\n",
       "    }\n",
       "</style>\n",
       "<table border=\"1\" class=\"dataframe\">\n",
       "  <thead>\n",
       "    <tr style=\"text-align: right;\">\n",
       "      <th></th>\n",
       "      <th>cast</th>\n",
       "      <th>keywords</th>\n",
       "      <th>director</th>\n",
       "      <th>genres</th>\n",
       "    </tr>\n",
       "  </thead>\n",
       "  <tbody>\n",
       "    <tr>\n",
       "      <th>0</th>\n",
       "      <td>[peterdillon, jasonwhyte, chrismala]</td>\n",
       "      <td>[alienplanet, society, future]</td>\n",
       "      <td>jamescameron</td>\n",
       "      <td>[adventure, fantasy, action]</td>\n",
       "    </tr>\n",
       "    <tr>\n",
       "      <th>1</th>\n",
       "      <td>[mackenziecrook, davidbailie, tomhollander]</td>\n",
       "      <td>[shipwreck, strongwoman, fighter]</td>\n",
       "      <td>goreverbinski</td>\n",
       "      <td>[adventure, fantasy, action]</td>\n",
       "    </tr>\n",
       "    <tr>\n",
       "      <th>2</th>\n",
       "      <td>[victorschefé, georgelasha, francisattakpah]</td>\n",
       "      <td>[spy, basedonnovel, secretagent]</td>\n",
       "      <td>sammendes</td>\n",
       "      <td>[crime, adventure, action]</td>\n",
       "    </tr>\n",
       "    <tr>\n",
       "      <th>3</th>\n",
       "      <td>[desmondharrington, cindyjackson, diogohausen]</td>\n",
       "      <td>[vigilante, tragichero, terrorism]</td>\n",
       "      <td>christophernolan</td>\n",
       "      <td>[crime, thriller, drama]</td>\n",
       "    </tr>\n",
       "    <tr>\n",
       "      <th>4</th>\n",
       "      <td>[donstark, dominicwest, josephbillingiere]</td>\n",
       "      <td>[steampunk, spacetravel, medallion]</td>\n",
       "      <td>andrewstanton</td>\n",
       "      <td>[adventure, action, sciencefiction]</td>\n",
       "    </tr>\n",
       "  </tbody>\n",
       "</table>\n",
       "</div>"
      ],
      "text/plain": [
       "                                             cast  \\\n",
       "0            [peterdillon, jasonwhyte, chrismala]   \n",
       "1     [mackenziecrook, davidbailie, tomhollander]   \n",
       "2    [victorschefé, georgelasha, francisattakpah]   \n",
       "3  [desmondharrington, cindyjackson, diogohausen]   \n",
       "4      [donstark, dominicwest, josephbillingiere]   \n",
       "\n",
       "                              keywords          director  \\\n",
       "0       [alienplanet, society, future]      jamescameron   \n",
       "1    [shipwreck, strongwoman, fighter]     goreverbinski   \n",
       "2     [spy, basedonnovel, secretagent]         sammendes   \n",
       "3   [vigilante, tragichero, terrorism]  christophernolan   \n",
       "4  [steampunk, spacetravel, medallion]     andrewstanton   \n",
       "\n",
       "                                genres  \n",
       "0         [adventure, fantasy, action]  \n",
       "1         [adventure, fantasy, action]  \n",
       "2           [crime, adventure, action]  \n",
       "3             [crime, thriller, drama]  \n",
       "4  [adventure, action, sciencefiction]  "
      ]
     },
     "execution_count": 43,
     "metadata": {},
     "output_type": "execute_result"
    }
   ],
   "source": [
    "data[['cast','keywords','director','genres']].head()"
   ]
  },
  {
   "cell_type": "code",
   "execution_count": 26,
   "id": "dce457fe",
   "metadata": {},
   "outputs": [],
   "source": [
    "features = ['cast','keywords','director','genres']\n",
    "for feature in features:\n",
    "    data[feature] = data[feature].apply(clean_data)"
   ]
  },
  {
   "cell_type": "code",
   "execution_count": 36,
   "id": "3cea8e56",
   "metadata": {},
   "outputs": [],
   "source": [
    "def create_soup(x): #cast keywords genres의 경우 가장 앞의 3개만 뽑히기 때문에 비교불가하여 성능이 떨어질 수도 있다\n",
    "    return ' '.join(x['keywords']) + ' ' + ' '.join(x['cast']) + ' ' + x['director'] + ' ' + ' '.join(x['genres']) + ' ' + x['site']\n",
    "data['soup'] = data.apply(create_soup,axis=1)"
   ]
  },
  {
   "cell_type": "code",
   "execution_count": 37,
   "id": "418e7686",
   "metadata": {},
   "outputs": [],
   "source": [
    "#soup를 이용한 CountVectorize\n",
    "from sklearn.feature_extraction.text import CountVectorizer\n",
    "cv = CountVectorizer(stop_words='english')\n",
    "\n",
    "count_matrix = cv.fit_transform(data['soup'])"
   ]
  },
  {
   "cell_type": "code",
   "execution_count": 44,
   "id": "239b2458",
   "metadata": {
    "scrolled": true
   },
   "outputs": [
    {
     "data": {
      "text/plain": [
       "65                               The Dark Knight\n",
       "2384                                      Carlos\n",
       "119                                Batman Begins\n",
       "4638                    Amidst the Devil's Wings\n",
       "714                                   Collateral\n",
       "1051                                   Prisoners\n",
       "2670                               Broken Horses\n",
       "3199    Red Riding: In the Year of Our Lord 1974\n",
       "2507                                   Slow Burn\n",
       "Name: title_x, dtype: object"
      ]
     },
     "execution_count": 44,
     "metadata": {},
     "output_type": "execute_result"
    }
   ],
   "source": [
    "#keywords, cast, director, genres\n",
    "cosine_sim2 = cosine_similarity(count_matrix,count_matrix)\n",
    "indices = pd.Series(data.index,index=data['title_x'])\n",
    "indices\n",
    "get_recommendation('The Dark Knight Rises',cosine_sim2)"
   ]
  },
  {
   "cell_type": "markdown",
   "id": "53f2e98c",
   "metadata": {},
   "source": [
    "## Collaborative Filtering\n",
    "- contents based filtering에서는 같은 부류의 콘텐츠를 뛰어넘는 참신성있는 추천을 하지 못한다 \n",
    "- item based CF 열(아이템)을 기준으로 similarity를 계산하는 것 -> 확장성, 희소성 Down\n",
    "- user based CF 행(유저)을 기준으로 similarity를 계산하는것 -> 장기적으로 유저의 선호가 바뀜"
   ]
  },
  {
   "attachments": {
    "image.png": {
     "image/png": "[encoded data removed]"
    }
   },
   "cell_type": "markdown",
   "id": "8eb8009d",
   "metadata": {},
   "source": [
    "<size > ![image.png](attachment:image.png)\n",
    "    - 예측값을 구할 때 자기 자신의 similarity 대신 가장 유사한 유저의 점수인 KNN을 쓴다\n",
    "   "
   ]
  },
  {
   "cell_type": "code",
   "execution_count": 155,
   "id": "2e899fab",
   "metadata": {
    "scrolled": false
   },
   "outputs": [
    {
     "data": {
      "text/html": [
       "<div>\n",
       "<style scoped>\n",
       "    .dataframe tbody tr th:only-of-type {\n",
       "        vertical-align: middle;\n",
       "    }\n",
       "\n",
       "    .dataframe tbody tr th {\n",
       "        vertical-align: top;\n",
       "    }\n",
       "\n",
       "    .dataframe thead th {\n",
       "        text-align: right;\n",
       "    }\n",
       "</style>\n",
       "<table border=\"1\" class=\"dataframe\">\n",
       "  <thead>\n",
       "    <tr style=\"text-align: right;\">\n",
       "      <th></th>\n",
       "      <th>userId</th>\n",
       "      <th>movieId</th>\n",
       "      <th>rating</th>\n",
       "      <th>timestamp</th>\n",
       "    </tr>\n",
       "  </thead>\n",
       "  <tbody>\n",
       "    <tr>\n",
       "      <th>0</th>\n",
       "      <td>1</td>\n",
       "      <td>31</td>\n",
       "      <td>2.5</td>\n",
       "      <td>1260759144</td>\n",
       "    </tr>\n",
       "    <tr>\n",
       "      <th>1</th>\n",
       "      <td>1</td>\n",
       "      <td>1029</td>\n",
       "      <td>3.0</td>\n",
       "      <td>1260759179</td>\n",
       "    </tr>\n",
       "    <tr>\n",
       "      <th>2</th>\n",
       "      <td>1</td>\n",
       "      <td>1061</td>\n",
       "      <td>3.0</td>\n",
       "      <td>1260759182</td>\n",
       "    </tr>\n",
       "    <tr>\n",
       "      <th>3</th>\n",
       "      <td>1</td>\n",
       "      <td>1129</td>\n",
       "      <td>2.0</td>\n",
       "      <td>1260759185</td>\n",
       "    </tr>\n",
       "    <tr>\n",
       "      <th>4</th>\n",
       "      <td>1</td>\n",
       "      <td>1172</td>\n",
       "      <td>4.0</td>\n",
       "      <td>1260759205</td>\n",
       "    </tr>\n",
       "  </tbody>\n",
       "</table>\n",
       "</div>"
      ],
      "text/plain": [
       "   userId  movieId  rating   timestamp\n",
       "0       1       31     2.5  1260759144\n",
       "1       1     1029     3.0  1260759179\n",
       "2       1     1061     3.0  1260759182\n",
       "3       1     1129     2.0  1260759185\n",
       "4       1     1172     4.0  1260759205"
      ]
     },
     "execution_count": 155,
     "metadata": {},
     "output_type": "execute_result"
    }
   ],
   "source": [
    "from surprise import Reader,Dataset,SVD\n",
    "from surprise.model_selection import KFold, cross_validate\n",
    "from surprise.dataset import DatasetAutoFolds\n",
    "from sklearn.model_selection import train_test_split\n",
    "reader = Reader()\n",
    "ratings = pd.read_csv('ratings.csv')\n",
    "ratings.head()"
   ]
  },
  {
   "cell_type": "code",
   "execution_count": 165,
   "id": "90fd6026",
   "metadata": {},
   "outputs": [],
   "source": [
    "from surprise import Dataset\n",
    "from surprise import Reader\n",
    "from surprise.model_selection import KFold\n",
    "\n",
    "# Load the ratings data into a Surprise Dataset object\n",
    "ratings = pd.read_csv('ratings.csv')\n",
    "reader = Reader(rating_scale=(0.5,5))\n",
    "data = Dataset.load_from_df(ratings[['userId', 'movieId', 'rating']], reader=reader)\n",
    "\n",
    "# Use DatasetAutoFolds to generate folds for cross-validation\n",
    "kf = KFold(n_splits=5)\n",
    "data_folds = kf.split(data)"
   ]
  },
  {
   "cell_type": "code",
   "execution_count": 179,
   "id": "529b743e",
   "metadata": {},
   "outputs": [
    {
     "data": {
      "text/plain": [
       "<surprise.prediction_algorithms.matrix_factorization.SVD at 0x1effff235b0>"
      ]
     },
     "execution_count": 179,
     "metadata": {},
     "output_type": "execute_result"
    }
   ],
   "source": [
    "trainset = data.build_full_trainset()\n",
    "svd.fit(trainset)"
   ]
  },
  {
   "cell_type": "code",
   "execution_count": 175,
   "id": "59238df9",
   "metadata": {},
   "outputs": [
    {
     "data": {
      "text/plain": [
       "Prediction(uid=4, iid=302, r_ui=3, est=4.087703087383842, details={'was_impossible': False})"
      ]
     },
     "execution_count": 175,
     "metadata": {},
     "output_type": "execute_result"
    }
   ],
   "source": [
    "svd.predict(4,302,3)"
   ]
  },
  {
   "cell_type": "code",
   "execution_count": 185,
   "id": "bd5452a7",
   "metadata": {},
   "outputs": [
    {
     "data": {
      "text/plain": [
       "'\\nfor trainset, testset in data_folds:\\n    trainset = trainset    \\n    testset = testset\\n'"
      ]
     },
     "execution_count": 185,
     "metadata": {},
     "output_type": "execute_result"
    }
   ],
   "source": [
    "'''\n",
    "for trainset, testset in data_folds:\n",
    "    trainset = trainset    \n",
    "    testset = testset\n",
    "'''"
   ]
  }
 ],
 "metadata": {
  "kernelspec": {
   "display_name": "Python 3 (ipykernel)",
   "language": "python",
   "name": "python3"
  },
  "language_info": {
   "codemirror_mode": {
    "name": "ipython",
    "version": 3
   },
   "file_extension": ".py",
   "mimetype": "text/x-python",
   "name": "python",
   "nbconvert_exporter": "python",
   "pygments_lexer": "ipython3",
   "version": "3.9.7"
  }
 },
 "nbformat": 4,
 "nbformat_minor": 5
}
